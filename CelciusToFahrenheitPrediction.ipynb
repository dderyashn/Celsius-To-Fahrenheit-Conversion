{
  "nbformat": 4,
  "nbformat_minor": 0,
  "metadata": {
    "colab": {
      "name": "CelciusToFahrenheitPrediction.ipynb",
      "provenance": [],
      "collapsed_sections": [],
      "authorship_tag": "ABX9TyMqwfTQOyOuYHb1ZEYof8bB",
      "include_colab_link": true
    },
    "kernelspec": {
      "name": "python3",
      "display_name": "Python 3"
    },
    "language_info": {
      "name": "python"
    }
  },
  "cells": [
    {
      "cell_type": "markdown",
      "metadata": {
        "id": "view-in-github",
        "colab_type": "text"
      },
      "source": [
        "<a href=\"https://colab.research.google.com/github/dderyashn/Celsius-To-Fahrenheit-Conversion/blob/main/CelciusToFahrenheitPrediction.ipynb\" target=\"_parent\"><img src=\"https://colab.research.google.com/assets/colab-badge.svg\" alt=\"Open In Colab\"/></a>"
      ]
    },
    {
      "cell_type": "code",
      "metadata": {
        "id": "js5AqiMCDG-W"
      },
      "source": [
        "#Importing Libraries\n",
        "import tensorflow as tf\n",
        "import numpy as np\n",
        "from tensorflow import keras \n",
        "from keras.models import Sequential\n",
        "from keras.layers import Dense"
      ],
      "execution_count": 2,
      "outputs": []
    },
    {
      "cell_type": "code",
      "metadata": {
        "id": "NRPox9KEE7vB"
      },
      "source": [
        "#Creating the Training Data\n",
        "celsius_values = np.array([-40, -10, -5, -3.3, 0, 4.44, 8, 10, 15, 15.56, 22, 38], dtype=float)\n",
        "fahrenheit_values = np.array([-40, 14, 23, 26, 32, 40, 46, 50, 59, 60, 72, 100], dtype=float)"
      ],
      "execution_count": 3,
      "outputs": []
    },
    {
      "cell_type": "code",
      "metadata": {
        "colab": {
          "base_uri": "https://localhost:8080/"
        },
        "id": "6NwfAYLrFqFV",
        "outputId": "ec4d3059-8125-4b9c-8c40-474a2b9366cf"
      },
      "source": [
        "#Creating the Model\n",
        "model = Sequential()\n",
        "model.add(Dense(1))\n",
        "model.compile(loss='mean_squared_error', optimizer = keras.optimizers.Adam(0.1))\n",
        "model.fit(celsius_values, fahrenheit_values, epochs=500, verbose=False)"
      ],
      "execution_count": 5,
      "outputs": [
        {
          "output_type": "execute_result",
          "data": {
            "text/plain": [
              "<keras.callbacks.History at 0x7fd77b56a910>"
            ]
          },
          "metadata": {},
          "execution_count": 5
        }
      ]
    },
    {
      "cell_type": "code",
      "metadata": {
        "id": "Zw4LD-zSLMxZ"
      },
      "source": [
        "#Creating a Function to Compare Our Predicted Values with the Actual Values\n",
        "def Calculation(celsius):\n",
        "  return celsius * 9/5 + 32"
      ],
      "execution_count": 6,
      "outputs": []
    },
    {
      "cell_type": "code",
      "metadata": {
        "colab": {
          "base_uri": "https://localhost:8080/"
        },
        "id": "HdXVI5D-M1XZ",
        "outputId": "a70b7684-b6f7-4daf-d61d-c9d8de319614"
      },
      "source": [
        "#Creating a Variable to Ask User for Celsius Value to Find Its Fahrenheit Value\n",
        "value = int(input('Enter the celsius value that you want to predict of its fahrenheit value: '))\n",
        "\n",
        "#Comparison Between Predicted Value and Actual Value\n",
        "print(f'Predicted Fahrenheit Value: {model.predict([value])}')\n",
        "print(f'Actual Fahrenheit Value: {Calculation(value)}')"
      ],
      "execution_count": 7,
      "outputs": [
        {
          "output_type": "stream",
          "name": "stdout",
          "text": [
            "Enter the celsius value that you want to predict of its fahrenheit value: 23\n",
            "Predicted Fahrenheit Value: [[71.40355]]\n",
            "Actual Fahrenheit Value: 73.4\n"
          ]
        }
      ]
    },
    {
      "cell_type": "code",
      "metadata": {
        "colab": {
          "base_uri": "https://localhost:8080/"
        },
        "id": "0dxJPP4GP1x7",
        "outputId": "e96b98e5-dfeb-4b08-df41-79d5b85d8ab7"
      },
      "source": [
        "#To See the Components of Neural Network's Equation\n",
        "model.weights"
      ],
      "execution_count": 8,
      "outputs": [
        {
          "output_type": "execute_result",
          "data": {
            "text/plain": [
              "[<tf.Variable 'dense/kernel:0' shape=(1, 1) dtype=float32, numpy=array([[1.8329614]], dtype=float32)>,\n",
              " <tf.Variable 'dense/bias:0' shape=(1,) dtype=float32, numpy=array([29.24544], dtype=float32)>]"
            ]
          },
          "metadata": {},
          "execution_count": 8
        }
      ]
    }
  ]
}