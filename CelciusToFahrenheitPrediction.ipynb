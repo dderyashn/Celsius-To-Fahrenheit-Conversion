{
  "nbformat": 4,
  "nbformat_minor": 0,
  "metadata": {
    "colab": {
      "name": "CelciusToFahrenheitPrediction.ipynb",
      "provenance": [],
      "collapsed_sections": [],
      "authorship_tag": "ABX9TyN8qu8KuU8097QZY2eDLQkB",
      "include_colab_link": true
    },
    "kernelspec": {
      "name": "python3",
      "display_name": "Python 3"
    },
    "language_info": {
      "name": "python"
    }
  },
  "cells": [
    {
      "cell_type": "markdown",
      "metadata": {
        "id": "view-in-github",
        "colab_type": "text"
      },
      "source": [
        "<a href=\"https://colab.research.google.com/github/dderyashn/Celsius-To-Fahrenheit-Conversion/blob/main/CelciusToFahrenheitPrediction.ipynb\" target=\"_parent\"><img src=\"https://colab.research.google.com/assets/colab-badge.svg\" alt=\"Open In Colab\"/></a>"
      ]
    },
    {
      "cell_type": "code",
      "metadata": {
        "id": "js5AqiMCDG-W"
      },
      "source": [
        "import tensorflow as tf\n",
        "import numpy as np"
      ],
      "execution_count": null,
      "outputs": []
    },
    {
      "cell_type": "code",
      "metadata": {
        "id": "NRPox9KEE7vB"
      },
      "source": [
        "celcius_values = np.array([-40, -10, -5, -3.3, 0, 4.44, 8, 10, 15, 15.56, 22, 38], dtype=float)\n",
        "fahrenheit_values = np.array([-40, 14, 23, 26, 32, 40, 46, 50, 59, 60, 72, 100], dtype=float)"
      ],
      "execution_count": null,
      "outputs": []
    },
    {
      "cell_type": "code",
      "metadata": {
        "id": "hSceBe8yFh87"
      },
      "source": [
        "from tensorflow import keras \n",
        "from keras.models import Sequential\n",
        "from keras.layers import Dense"
      ],
      "execution_count": null,
      "outputs": []
    },
    {
      "cell_type": "code",
      "metadata": {
        "colab": {
          "base_uri": "https://localhost:8080/"
        },
        "id": "6NwfAYLrFqFV",
        "outputId": "9ee9b6e5-a867-4fb1-f6ab-10e3f485faee"
      },
      "source": [
        "model = Sequential()\n",
        "model.add(Dense(1))\n",
        "model.compile(loss='mean_squared_error', optimizer = keras.optimizers.Adam(0.1))\n",
        "model.fit(celcius_values, fahrenheit_values, epochs=500, verbose=False)"
      ],
      "execution_count": null,
      "outputs": [
        {
          "output_type": "execute_result",
          "data": {
            "text/plain": [
              "<keras.callbacks.History at 0x7fbedaac17d0>"
            ]
          },
          "metadata": {},
          "execution_count": 53
        }
      ]
    },
    {
      "cell_type": "code",
      "metadata": {
        "id": "Zw4LD-zSLMxZ"
      },
      "source": [
        "def Calculation(celcius):\n",
        "  return celcius * 9/5 + 32"
      ],
      "execution_count": null,
      "outputs": []
    },
    {
      "cell_type": "code",
      "metadata": {
        "colab": {
          "base_uri": "https://localhost:8080/"
        },
        "id": "HdXVI5D-M1XZ",
        "outputId": "117b7dfa-02fb-46e6-8909-b6fca922d3c7"
      },
      "source": [
        "value = int(input('Enter the celcius value that you want to predict of its fahrenheit value: '))\n",
        "\n",
        "print(f'Predicted Fahrenheit Value: {model.predict([value])}')\n",
        "print(f'Actual Fahrenheit Value: {Calculation(value)}')"
      ],
      "execution_count": null,
      "outputs": [
        {
          "output_type": "stream",
          "name": "stdout",
          "text": [
            "Enter the celcius value that you want to predict of its fahrenheit value: 23\n",
            "Predicted Fahrenheit Value: [[71.2891]]\n",
            "Actual Fahrenheit Value: 73.4\n"
          ]
        }
      ]
    },
    {
      "cell_type": "code",
      "metadata": {
        "colab": {
          "base_uri": "https://localhost:8080/"
        },
        "id": "0dxJPP4GP1x7",
        "outputId": "f36b9a55-82ef-4f9f-b003-037f443e3965"
      },
      "source": [
        "model.weights"
      ],
      "execution_count": null,
      "outputs": [
        {
          "output_type": "execute_result",
          "data": {
            "text/plain": [
              "[<tf.Variable 'dense_4/kernel:0' shape=(1, 1) dtype=float32, numpy=array([[1.835333]], dtype=float32)>,\n",
              " <tf.Variable 'dense_4/bias:0' shape=(1,) dtype=float32, numpy=array([29.076443], dtype=float32)>]"
            ]
          },
          "metadata": {},
          "execution_count": 56
        }
      ]
    }
  ]
}